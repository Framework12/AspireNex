{
  "nbformat": 4,
  "nbformat_minor": 0,
  "metadata": {
    "colab": {
      "provenance": []
    },
    "kernelspec": {
      "name": "python3",
      "display_name": "Python 3"
    },
    "language_info": {
      "name": "python"
    }
  },
  "cells": [
    {
      "cell_type": "markdown",
      "source": [
        "##CreditCard Fraud Detection\n",
        "\n",
        "Name-Chandan Fulvariya\n",
        "\n",
        "e-mail-  itschandanverma18@gmail.com"
      ],
      "metadata": {
        "id": "bQTf8sKbEaO6"
      }
    },
    {
      "cell_type": "markdown",
      "source": [
        "Data Loading and Exploration"
      ],
      "metadata": {
        "id": "kX0MDG_1FD_h"
      }
    },
    {
      "cell_type": "code",
      "execution_count": 1,
      "metadata": {
        "colab": {
          "base_uri": "https://localhost:8080/"
        },
        "id": "4krV7uDuEW_E",
        "outputId": "5b3f35a7-4c63-45d4-b35c-255cccc0ec17"
      },
      "outputs": [
        {
          "output_type": "stream",
          "name": "stdout",
          "text": [
            "   Time        V1        V2        V3        V4        V5        V6        V7  \\\n",
            "0     0 -1.359807 -0.072781  2.536347  1.378155 -0.338321  0.462388  0.239599   \n",
            "1     0  1.191857  0.266151  0.166480  0.448154  0.060018 -0.082361 -0.078803   \n",
            "2     1 -1.358354 -1.340163  1.773209  0.379780 -0.503198  1.800499  0.791461   \n",
            "3     1 -0.966272 -0.185226  1.792993 -0.863291 -0.010309  1.247203  0.237609   \n",
            "4     2 -1.158233  0.877737  1.548718  0.403034 -0.407193  0.095921  0.592941   \n",
            "\n",
            "         V8        V9  ...       V21       V22       V23       V24       V25  \\\n",
            "0  0.098698  0.363787  ... -0.018307  0.277838 -0.110474  0.066928  0.128539   \n",
            "1  0.085102 -0.255425  ... -0.225775 -0.638672  0.101288 -0.339846  0.167170   \n",
            "2  0.247676 -1.514654  ...  0.247998  0.771679  0.909412 -0.689281 -0.327642   \n",
            "3  0.377436 -1.387024  ... -0.108300  0.005274 -0.190321 -1.175575  0.647376   \n",
            "4 -0.270533  0.817739  ... -0.009431  0.798278 -0.137458  0.141267 -0.206010   \n",
            "\n",
            "        V26       V27       V28  Amount  Class  \n",
            "0 -0.189115  0.133558 -0.021053  149.62    0.0  \n",
            "1  0.125895 -0.008983  0.014724    2.69    0.0  \n",
            "2 -0.139097 -0.055353 -0.059752  378.66    0.0  \n",
            "3 -0.221929  0.062723  0.061458  123.50    0.0  \n",
            "4  0.502292  0.219422  0.215153   69.99    0.0  \n",
            "\n",
            "[5 rows x 31 columns]\n",
            "<class 'pandas.core.frame.DataFrame'>\n",
            "RangeIndex: 1986 entries, 0 to 1985\n",
            "Data columns (total 31 columns):\n",
            " #   Column  Non-Null Count  Dtype  \n",
            "---  ------  --------------  -----  \n",
            " 0   Time    1986 non-null   int64  \n",
            " 1   V1      1986 non-null   float64\n",
            " 2   V2      1986 non-null   float64\n",
            " 3   V3      1986 non-null   float64\n",
            " 4   V4      1986 non-null   float64\n",
            " 5   V5      1986 non-null   float64\n",
            " 6   V6      1986 non-null   float64\n",
            " 7   V7      1986 non-null   float64\n",
            " 8   V8      1986 non-null   float64\n",
            " 9   V9      1986 non-null   float64\n",
            " 10  V10     1986 non-null   float64\n",
            " 11  V11     1986 non-null   float64\n",
            " 12  V12     1986 non-null   float64\n",
            " 13  V13     1986 non-null   float64\n",
            " 14  V14     1985 non-null   float64\n",
            " 15  V15     1985 non-null   float64\n",
            " 16  V16     1985 non-null   float64\n",
            " 17  V17     1985 non-null   float64\n",
            " 18  V18     1985 non-null   float64\n",
            " 19  V19     1985 non-null   float64\n",
            " 20  V20     1985 non-null   float64\n",
            " 21  V21     1985 non-null   float64\n",
            " 22  V22     1985 non-null   float64\n",
            " 23  V23     1985 non-null   float64\n",
            " 24  V24     1985 non-null   float64\n",
            " 25  V25     1985 non-null   float64\n",
            " 26  V26     1985 non-null   float64\n",
            " 27  V27     1985 non-null   float64\n",
            " 28  V28     1985 non-null   float64\n",
            " 29  Amount  1985 non-null   float64\n",
            " 30  Class   1985 non-null   float64\n",
            "dtypes: float64(30), int64(1)\n",
            "memory usage: 481.1 KB\n",
            "None\n",
            "              Time           V1           V2           V3           V4  \\\n",
            "count  1986.000000  1986.000000  1986.000000  1986.000000  1986.000000   \n",
            "mean    761.035750    -0.284195     0.266886     0.848005     0.151216   \n",
            "std     451.034025     1.353508     1.142026     1.012645     1.264932   \n",
            "min       0.000000   -11.140706   -12.114213   -12.389545    -4.657545   \n",
            "25%     366.000000    -1.045512    -0.204111     0.280517    -0.670513   \n",
            "50%     750.000000    -0.437621     0.314294     0.864505     0.190698   \n",
            "75%    1161.000000     1.095047     0.926126     1.486942     1.002546   \n",
            "max    1526.000000     1.685314     6.118940     4.017561     6.013346   \n",
            "\n",
            "                V5           V6           V7           V8           V9  ...  \\\n",
            "count  1986.000000  1986.000000  1986.000000  1986.000000  1986.000000  ...   \n",
            "mean     -0.077457     0.050205     0.138347    -0.058795     0.012145  ...   \n",
            "std       1.272512     1.274204     1.140750     0.966493     0.900828  ...   \n",
            "min     -32.092129    -3.498447    -4.925568   -12.258158    -3.110515  ...   \n",
            "25%      -0.576269    -0.691393    -0.286991    -0.172322    -0.479310  ...   \n",
            "50%      -0.154843    -0.198063     0.117535     0.037598    -0.034097  ...   \n",
            "75%       0.376901     0.389714     0.569262     0.279513     0.449706  ...   \n",
            "max       7.672544    21.393069    34.303177     3.877662     6.450992  ...   \n",
            "\n",
            "               V21          V22          V23          V24          V25  \\\n",
            "count  1985.000000  1985.000000  1985.000000  1985.000000  1985.000000   \n",
            "mean     -0.011611    -0.144319    -0.043045     0.013864     0.108372   \n",
            "std       0.653200     0.588201     0.352890     0.601370     0.407874   \n",
            "min      -4.709977    -2.776923    -4.020300    -2.162523    -1.577384   \n",
            "25%      -0.226941    -0.547474    -0.181176    -0.350802    -0.151028   \n",
            "50%      -0.087329    -0.152603    -0.057041     0.093137     0.131713   \n",
            "75%       0.083530     0.252698     0.064859     0.428755     0.383339   \n",
            "max       6.765928     1.957759     4.095021     1.215279     1.629684   \n",
            "\n",
            "               V26          V27          V28       Amount        Class  \n",
            "count  1985.000000  1985.000000  1985.000000  1985.000000  1985.000000  \n",
            "mean      0.049408     0.027197    -0.002018    68.602469     0.001008  \n",
            "std       0.454251     0.369485     0.272864   241.677019     0.031734  \n",
            "min      -1.243924    -5.336289    -2.738566     0.000000     0.000000  \n",
            "25%      -0.281097    -0.049467    -0.021053     4.950000     0.000000  \n",
            "50%       0.036992     0.023011     0.022722    15.090000     0.000000  \n",
            "75%       0.303731     0.140481     0.090920    63.650000     0.000000  \n",
            "max       3.463246     3.852046     4.157934  7712.430000     1.000000  \n",
            "\n",
            "[8 rows x 31 columns]\n"
          ]
        }
      ],
      "source": [
        "import pandas as pd\n",
        "import numpy as np\n",
        "\n",
        "# Load the dataset\n",
        "data = pd.read_csv('/content/creditcard.csv')\n",
        "\n",
        "# Basic exploration\n",
        "print(data.head())\n",
        "print(data.info())\n",
        "print(data.describe())\n"
      ]
    },
    {
      "cell_type": "markdown",
      "source": [
        "Data Preprocessing"
      ],
      "metadata": {
        "id": "lUMKWfCWFJgl"
      }
    },
    {
      "cell_type": "code",
      "source": [
        "from sklearn.preprocessing import StandardScaler\n",
        "from sklearn.model_selection import train_test_split\n",
        "\n",
        "# Handling missing values (if any)\n",
        "data = data.dropna()\n",
        "\n",
        "# Feature scaling\n",
        "scaler = StandardScaler()\n",
        "data['scaled_amount'] = scaler.fit_transform(data['Amount'].values.reshape(-1, 1))\n",
        "data['scaled_time'] = scaler.fit_transform(data['Time'].values.reshape(-1, 1))\n",
        "data = data.drop(['Time', 'Amount'], axis=1)\n",
        "\n",
        "# Splitting the data\n",
        "X = data.drop('Class', axis=1)\n",
        "y = data['Class']\n",
        "X_train, X_test, y_train, y_test = train_test_split(X, y, test_size=0.2, random_state=42)\n"
      ],
      "metadata": {
        "id": "aw01pj4AFMKd",
        "colab": {
          "base_uri": "https://localhost:8080/"
        },
        "outputId": "4e4d0d9b-7cfa-4d0c-c611-c2f68f818489"
      },
      "execution_count": 2,
      "outputs": [
        {
          "output_type": "stream",
          "name": "stderr",
          "text": [
            "<ipython-input-2-2ffd647cd08c>:9: SettingWithCopyWarning: \n",
            "A value is trying to be set on a copy of a slice from a DataFrame.\n",
            "Try using .loc[row_indexer,col_indexer] = value instead\n",
            "\n",
            "See the caveats in the documentation: https://pandas.pydata.org/pandas-docs/stable/user_guide/indexing.html#returning-a-view-versus-a-copy\n",
            "  data['scaled_amount'] = scaler.fit_transform(data['Amount'].values.reshape(-1, 1))\n",
            "<ipython-input-2-2ffd647cd08c>:10: SettingWithCopyWarning: \n",
            "A value is trying to be set on a copy of a slice from a DataFrame.\n",
            "Try using .loc[row_indexer,col_indexer] = value instead\n",
            "\n",
            "See the caveats in the documentation: https://pandas.pydata.org/pandas-docs/stable/user_guide/indexing.html#returning-a-view-versus-a-copy\n",
            "  data['scaled_time'] = scaler.fit_transform(data['Time'].values.reshape(-1, 1))\n"
          ]
        }
      ]
    },
    {
      "cell_type": "markdown",
      "source": [
        "##Model Building\n",
        "Logistic Regression"
      ],
      "metadata": {
        "id": "KsX1mt-7FPBN"
      }
    },
    {
      "cell_type": "code",
      "source": [
        "from sklearn.linear_model import LogisticRegression\n",
        "from sklearn.metrics import confusion_matrix, classification_report\n",
        "\n",
        "# Logistic Regression\n",
        "lr = LogisticRegression()\n",
        "lr.fit(X_train, y_train)\n",
        "y_pred_lr = lr.predict(X_test)\n",
        "\n",
        "# Evaluation\n",
        "print(confusion_matrix(y_test, y_pred_lr))\n",
        "print(classification_report(y_test, y_pred_lr))\n"
      ],
      "metadata": {
        "id": "2DlLjEL1FWcm",
        "colab": {
          "base_uri": "https://localhost:8080/"
        },
        "outputId": "7d175da1-2af4-4df1-c5ca-43abb3d75ec6"
      },
      "execution_count": 3,
      "outputs": [
        {
          "output_type": "stream",
          "name": "stdout",
          "text": [
            "[[397]]\n",
            "              precision    recall  f1-score   support\n",
            "\n",
            "         0.0       1.00      1.00      1.00       397\n",
            "\n",
            "    accuracy                           1.00       397\n",
            "   macro avg       1.00      1.00      1.00       397\n",
            "weighted avg       1.00      1.00      1.00       397\n",
            "\n"
          ]
        }
      ]
    },
    {
      "cell_type": "markdown",
      "source": [
        "Decision Tree"
      ],
      "metadata": {
        "id": "b6t2JbTiFZkg"
      }
    },
    {
      "cell_type": "code",
      "source": [
        "from sklearn.tree import DecisionTreeClassifier\n",
        "\n",
        "# Decision Tree\n",
        "dt = DecisionTreeClassifier()\n",
        "dt.fit(X_train, y_train)\n",
        "y_pred_dt = dt.predict(X_test)\n",
        "\n",
        "# Evaluation\n",
        "print(confusion_matrix(y_test, y_pred_dt))\n",
        "print(classification_report(y_test, y_pred_dt))\n"
      ],
      "metadata": {
        "id": "pYB5EDZ3FcHI",
        "colab": {
          "base_uri": "https://localhost:8080/"
        },
        "outputId": "f74753d1-d7d4-4c68-d5e1-7359f2dbc5db"
      },
      "execution_count": 4,
      "outputs": [
        {
          "output_type": "stream",
          "name": "stdout",
          "text": [
            "[[397]]\n",
            "              precision    recall  f1-score   support\n",
            "\n",
            "         0.0       1.00      1.00      1.00       397\n",
            "\n",
            "    accuracy                           1.00       397\n",
            "   macro avg       1.00      1.00      1.00       397\n",
            "weighted avg       1.00      1.00      1.00       397\n",
            "\n"
          ]
        }
      ]
    },
    {
      "cell_type": "markdown",
      "source": [
        "Random Forest"
      ],
      "metadata": {
        "id": "9qtRJHXiFdtf"
      }
    },
    {
      "cell_type": "code",
      "source": [
        "from sklearn.ensemble import RandomForestClassifier\n",
        "\n",
        "# Random Forest\n",
        "rf = RandomForestClassifier()\n",
        "rf.fit(X_train, y_train)\n",
        "y_pred_rf = rf.predict(X_test)\n",
        "\n",
        "# Evaluation\n",
        "print(confusion_matrix(y_test, y_pred_rf))\n",
        "print(classification_report(y_test, y_pred_rf))\n"
      ],
      "metadata": {
        "id": "BsXH8wrZFf71",
        "colab": {
          "base_uri": "https://localhost:8080/"
        },
        "outputId": "df3b6146-d2f2-4dcc-d31c-ce1a38f23173"
      },
      "execution_count": 5,
      "outputs": [
        {
          "output_type": "stream",
          "name": "stdout",
          "text": [
            "[[397]]\n",
            "              precision    recall  f1-score   support\n",
            "\n",
            "         0.0       1.00      1.00      1.00       397\n",
            "\n",
            "    accuracy                           1.00       397\n",
            "   macro avg       1.00      1.00      1.00       397\n",
            "weighted avg       1.00      1.00      1.00       397\n",
            "\n"
          ]
        }
      ]
    },
    {
      "cell_type": "markdown",
      "source": [
        "Gradient Boosting"
      ],
      "metadata": {
        "id": "-kUARX9MFhwR"
      }
    },
    {
      "cell_type": "code",
      "source": [
        "from sklearn.ensemble import GradientBoostingClassifier\n",
        "\n",
        "# Gradient Boosting\n",
        "gb = GradientBoostingClassifier()\n",
        "gb.fit(X_train, y_train)\n",
        "y_pred_gb = gb.predict(X_test)\n",
        "\n",
        "# Evaluation\n",
        "print(confusion_matrix(y_test, y_pred_gb))\n",
        "print(classification_report(y_test, y_pred_gb))\n"
      ],
      "metadata": {
        "id": "WzmFjCrjFj0x",
        "colab": {
          "base_uri": "https://localhost:8080/"
        },
        "outputId": "09a0f549-e416-42cd-a901-8f5f301cc7f2"
      },
      "execution_count": 6,
      "outputs": [
        {
          "output_type": "stream",
          "name": "stdout",
          "text": [
            "[[395   2]\n",
            " [  0   0]]\n",
            "              precision    recall  f1-score   support\n",
            "\n",
            "         0.0       1.00      0.99      1.00       397\n",
            "         1.0       0.00      0.00      0.00         0\n",
            "\n",
            "    accuracy                           0.99       397\n",
            "   macro avg       0.50      0.50      0.50       397\n",
            "weighted avg       1.00      0.99      1.00       397\n",
            "\n"
          ]
        },
        {
          "output_type": "stream",
          "name": "stderr",
          "text": [
            "/usr/local/lib/python3.10/dist-packages/sklearn/metrics/_classification.py:1344: UndefinedMetricWarning: Recall and F-score are ill-defined and being set to 0.0 in labels with no true samples. Use `zero_division` parameter to control this behavior.\n",
            "  _warn_prf(average, modifier, msg_start, len(result))\n",
            "/usr/local/lib/python3.10/dist-packages/sklearn/metrics/_classification.py:1344: UndefinedMetricWarning: Recall and F-score are ill-defined and being set to 0.0 in labels with no true samples. Use `zero_division` parameter to control this behavior.\n",
            "  _warn_prf(average, modifier, msg_start, len(result))\n",
            "/usr/local/lib/python3.10/dist-packages/sklearn/metrics/_classification.py:1344: UndefinedMetricWarning: Recall and F-score are ill-defined and being set to 0.0 in labels with no true samples. Use `zero_division` parameter to control this behavior.\n",
            "  _warn_prf(average, modifier, msg_start, len(result))\n"
          ]
        }
      ]
    },
    {
      "cell_type": "markdown",
      "source": [
        "Model Evaluation and Saving"
      ],
      "metadata": {
        "id": "N9Uzg8-WFyZp"
      }
    },
    {
      "cell_type": "code",
      "source": [
        "from sklearn.metrics import accuracy_score, precision_score, recall_score, f1_score\n",
        "import joblib\n",
        "\n",
        "# Define a function to evaluate models\n",
        "def evaluate_model(model, X_test, y_test):\n",
        "    y_pred = model.predict(X_test)\n",
        "    accuracy = accuracy_score(y_test, y_pred)\n",
        "    precision = precision_score(y_test, y_pred)\n",
        "    recall = recall_score(y_test, y_pred)\n",
        "    f1 = f1_score(y_test, y_pred)\n",
        "    print(f'Accuracy: {accuracy}')\n",
        "    print(f'Precision: {precision}')\n",
        "    print(f'Recall: {recall}')\n",
        "    print(f'F1 Score: {f1}')\n",
        "\n",
        "best_model = rf\n",
        "joblib.dump(best_model, 'credicard.pkl')\n",
        "\n",
        "print(\"Model saved as creditcardfraud.pkl\")"
      ],
      "metadata": {
        "id": "Yz_cxTL8FzLM",
        "colab": {
          "base_uri": "https://localhost:8080/"
        },
        "outputId": "bfa7deed-c8f8-40be-a65f-1d57ef1dc601"
      },
      "execution_count": 9,
      "outputs": [
        {
          "output_type": "stream",
          "name": "stdout",
          "text": [
            "Model saved as creditcardfraud.pkl\n"
          ]
        }
      ]
    }
  ]
}